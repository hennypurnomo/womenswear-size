{
 "cells": [
  {
   "cell_type": "markdown",
   "metadata": {},
   "source": [
    "# Prediction\n",
    "This notebook contains prediction of womanswear's size"
   ]
  },
  {
   "cell_type": "code",
   "execution_count": 24,
   "metadata": {},
   "outputs": [],
   "source": [
    "# import some libraries\n",
    "%matplotlib inline\n",
    "\n",
    "import matplotlib.pyplot as plt\n",
    "import pandas as pd\n",
    "import numpy as np\n",
    "import seaborn as sns\n",
    "\n",
    "from sklearn.preprocessing import LabelEncoder, StandardScaler\n",
    "from sklearn.ensemble import RandomForestClassifier as RF\n",
    "from sklearn import model_selection\n",
    "from sklearn.metrics import confusion_matrix, f1_score, classification_report\n",
    "from sklearn.model_selection import KFold"
   ]
  },
  {
   "cell_type": "markdown",
   "metadata": {},
   "source": [
    "# Loading data"
   ]
  },
  {
   "cell_type": "code",
   "execution_count": 7,
   "metadata": {},
   "outputs": [
    {
     "name": "stdout",
     "output_type": "stream",
     "text": [
      "size of train label: (80001,)\n",
      "size of predicted test: (19999, 13)\n",
      "size of raw train: (80001, 14)\n",
      "size of raw test: (19999, 13)\n",
      "   customer_id  size_womenswear  total_number_of_orders  return_rate  \\\n",
      "0            1               16                      28         0.12   \n",
      "1            2               20                     118         0.61   \n",
      "2            3                8                     125         0.04   \n",
      "3            4               12                     109         0.42   \n",
      "4            5               16                      37         0.26   \n",
      "\n",
      "   first_order_channel  socioeconomic_status  size_corsetry_cup  \\\n",
      "0                    1                     2                  7   \n",
      "1                    2                     7                  3   \n",
      "2                    2                     5                  3   \n",
      "3                    1                     5                  5   \n",
      "4                    1                     8                  4   \n",
      "\n",
      "   size_corsetry_briefs  size_footware  days_since_first_order  brand  \\\n",
      "0                    16              7                    4964      0   \n",
      "1                    20              6                    5578      3   \n",
      "2                    12              4                    4112      3   \n",
      "3                    12              7                    4261      0   \n",
      "4                    16              6                    2432      3   \n",
      "\n",
      "   age_in_years  socioeconomic_desc  order_method  \n",
      "0            47                   2             0  \n",
      "1            73                   0             1  \n",
      "2            65                  11             1  \n",
      "3            69                  11             0  \n",
      "4            62                   4             0  \n"
     ]
    }
   ],
   "source": [
    "#load training and testing data\n",
    "\n",
    "raw_train = pd.read_csv(\"uc_data_train.csv\", encoding='UTF-8')\n",
    "raw_train = raw_train.loc[:, ~raw_train.columns.str.contains('Unnamed')]\n",
    "raw_test = pd.read_csv(\"uc_data_test.csv\", encoding='UTF-8')\n",
    "raw_test = raw_test.loc[:, ~raw_test.columns.str.contains('Unnamed')]\n",
    "predicted_test = raw_test.copy()\n",
    "\n",
    "train_label = raw_train.loc[:, ['size_womenswear']].values.ravel()\n",
    "print('size of train label:', train_label.shape)\n",
    "\n",
    "#apply label encoder\n",
    "categorical = ['socioeconomic_desc', 'brand', 'socioeconomic_status', 'order_method']\n",
    "raw_train[categorical] = raw_train[categorical].apply(LabelEncoder().fit_transform)\n",
    "raw_test[categorical] = raw_test[categorical].apply(LabelEncoder().fit_transform)\n",
    "\n",
    "#check the number of customer and features\n",
    "print('size of predicted test:', predicted_test.shape)\n",
    "print('size of raw train:',raw_train.shape)\n",
    "print('size of raw test:',raw_test.shape)\n",
    "print(raw_train.head())"
   ]
  },
  {
   "cell_type": "markdown",
   "metadata": {},
   "source": [
    "# Feature extraction"
   ]
  },
  {
   "cell_type": "code",
   "execution_count": 8,
   "metadata": {},
   "outputs": [
    {
     "name": "stdout",
     "output_type": "stream",
     "text": [
      "Feature ranking:\n",
      "1. feature 1 (0.740571)\n",
      "2. feature 7 (0.209473)\n",
      "3. feature 8 (0.010654)\n",
      "4. feature 9 (0.006350)\n",
      "5. feature 0 (0.005655)\n",
      "6. feature 11 (0.005526)\n",
      "7. feature 2 (0.005452)\n",
      "8. feature 3 (0.004811)\n",
      "9. feature 6 (0.003494)\n",
      "10. feature 5 (0.002784)\n",
      "11. feature 12 (0.002563)\n",
      "12. feature 10 (0.001513)\n",
      "13. feature 4 (0.000584)\n",
      "14. feature 13 (0.000570)\n"
     ]
    },
    {
     "data": {
      "image/png": "[encoded data removed]",
      "text/plain": [
       "<Figure size 432x288 with 1 Axes>"
      ]
     },
     "metadata": {},
     "output_type": "display_data"
    }
   ],
   "source": [
    "forest = RF(n_estimators = 50, max_depth=15, random_state=50, \n",
    "                         bootstrap=False)\n",
    "\n",
    "forest.fit(raw_train, train_label)\n",
    "importances = forest.feature_importances_\n",
    "std = np.std([tree.feature_importances_ for tree in forest.estimators_],\n",
    "             axis=0)\n",
    "indices = np.argsort(importances)[::-1]\n",
    "\n",
    "# Print the feature ranking\n",
    "print(\"Feature ranking:\")\n",
    "for f in range(raw_train.shape[1]):\n",
    "    print(\"%d. feature %d (%f)\" % (f + 1, indices[f], importances[indices[f]]))\n",
    "\n",
    "# Plot the feature importances of the forest\n",
    "plt.figure()\n",
    "plt.title(\"Feature importances\")\n",
    "plt.bar(range(raw_train.shape[1]), importances[indices],\n",
    "       color=\"r\", yerr=std[indices], align=\"center\")\n",
    "plt.xticks(range(raw_train.shape[1]), indices)\n",
    "plt.xlim([-1, raw_train.shape[1]])\n",
    "plt.show()\n",
    "\n",
    "#based on ranking, only take 9 features"
   ]
  },
  {
   "cell_type": "code",
   "execution_count": 14,
   "metadata": {},
   "outputs": [
    {
     "name": "stdout",
     "output_type": "stream",
     "text": [
      "(80001, 9)\n",
      "   total_number_of_orders  return_rate  socioeconomic_desc  size_corsetry_cup  \\\n",
      "0                      28         0.12                   2                  7   \n",
      "1                     118         0.61                   0                  3   \n",
      "2                     125         0.04                  11                  3   \n",
      "3                     109         0.42                  11                  5   \n",
      "4                      37         0.26                   4                  4   \n",
      "\n",
      "   size_corsetry_briefs  size_footware  days_since_first_order  brand  \\\n",
      "0                    16              7                    4964      0   \n",
      "1                    20              6                    5578      3   \n",
      "2                    12              4                    4112      3   \n",
      "3                    12              7                    4261      0   \n",
      "4                    16              6                    2432      3   \n",
      "\n",
      "   age_in_years  \n",
      "0            47  \n",
      "1            73  \n",
      "2            65  \n",
      "3            69  \n",
      "4            62  \n",
      "(19999, 9)\n"
     ]
    }
   ],
   "source": [
    "#select some columns as features\n",
    "features = ['total_number_of_orders', 'return_rate', 'socioeconomic_desc',\n",
    "           'size_corsetry_cup', 'size_corsetry_briefs', 'size_footware', 'days_since_first_order', \n",
    "            'brand', 'age_in_years']\n",
    "\n",
    "#training data\n",
    "train_data = raw_train[features]\n",
    "print(train_data.shape)\n",
    "print(train_data.head())\n",
    "#testing data\n",
    "test_data = raw_test[features]\n",
    "print(test_data.shape)"
   ]
  },
  {
   "cell_type": "code",
   "execution_count": 17,
   "metadata": {
    "scrolled": false
   },
   "outputs": [],
   "source": [
    "#scale all the features\n",
    "train_data = StandardScaler().fit_transform(train_data)\n",
    "test_data = StandardScaler().fit_transform(test_data)"
   ]
  },
  {
   "cell_type": "code",
   "execution_count": 19,
   "metadata": {},
   "outputs": [
    {
     "name": "stdout",
     "output_type": "stream",
     "text": [
      "Micro averaged f1 on training data with Cross-validation:\n",
      "0.690 (0.004)\n"
     ]
    }
   ],
   "source": [
    "#Cross validation\n",
    "\n",
    "classes = ['8', '12', '16', '20', '24', '28', '32', '36']\n",
    "class_weight = dict({8:50, 12:3.8, 16:2, 20:1.6, 24:3, 28:8, 32:26, 36:500})\n",
    "model = RF(n_estimators = 50, max_depth=15, random_state=50, \n",
    "                         bootstrap=True, class_weight=class_weight)\n",
    "\n",
    "#measure accuracy with k-fold\n",
    "print(\"Micro averaged f1 on training data with Cross-validation:\")\n",
    "#split training data into 10 fold, and calculate the score by accuracy \n",
    "cv_results = model_selection.cross_val_score(model, train_data, train_label, \n",
    "                                            cv = KFold(n_splits=10), \n",
    "                                            scoring = 'f1_micro')\n",
    "\n",
    "#print the result, its mean and standard deviation\n",
    "msg = \"%.3f (%.3f)\" % (cv_results.mean(), cv_results.std())\n",
    "print(msg)"
   ]
  },
  {
   "cell_type": "code",
   "execution_count": 22,
   "metadata": {
    "scrolled": false
   },
   "outputs": [
    {
     "name": "stdout",
     "output_type": "stream",
     "text": [
      "   customer_id  total_number_of_orders  return_rate  first_order_channel  \\\n",
      "0            7                      17         0.26                    2   \n",
      "1            8                      30         0.52                    2   \n",
      "2            9                       9         0.31                    2   \n",
      "3           13                     109         0.08                    2   \n",
      "4           24                     135         0.10                    2   \n",
      "\n",
      "  socioeconomic_status  size_corsetry_cup  size_corsetry_briefs  \\\n",
      "0                    M                  4                    20   \n",
      "1                    L                  4                    16   \n",
      "2                    I                  9                    16   \n",
      "3                    M                  3                    16   \n",
      "4                    F                  3                    24   \n",
      "\n",
      "   size_footware  days_since_first_order    brand  age_in_years  \\\n",
      "0              6                    1602  Brand 3            43   \n",
      "1              8                    1809    other            47   \n",
      "2              6                     179  Brand 3            60   \n",
      "3              7                    4455    other            65   \n",
      "4              6                    8752    other            70   \n",
      "\n",
      "   socioeconomic_desc order_method  size_womenswear  \n",
      "0   Modest Traditions       online               20  \n",
      "1       Vintage Value       online               16  \n",
      "2       Family Basics       online               16  \n",
      "3   Modest Traditions       online               16  \n",
      "4  Suburban Stability       online               24  \n"
     ]
    }
   ],
   "source": [
    "#fit data into a classifier\n",
    "\n",
    "training = RF(n_estimators = 50, max_depth=15, random_state=50, \n",
    "                         bootstrap=False, class_weight=class_weight).fit(train_data, train_label)\n",
    "train_pred = training.predict(train_data)\n",
    "test_pred = training.predict(test_data)\n",
    "\n",
    "#concat prediction into test dataframe\n",
    "predicted_test['size_womenswear'] = test_pred\n",
    "print(predicted_test.head())\n",
    "\n",
    "#save into csv\n",
    "predicted_test.to_csv('Prediction of size womenswear.csv', index=False, encoding='utf-8')"
   ]
  },
  {
   "cell_type": "code",
   "execution_count": 25,
   "metadata": {},
   "outputs": [
    {
     "name": "stdout",
     "output_type": "stream",
     "text": [
      "0.7683278959013011\n"
     ]
    },
    {
     "data": {
      "image/png": "[encoded data removed]",
      "text/plain": [
       "<Figure size 432x288 with 2 Axes>"
      ]
     },
     "metadata": {},
     "output_type": "display_data"
    },
    {
     "name": "stdout",
     "output_type": "stream",
     "text": [
      "             precision    recall  f1-score   support\n",
      "\n",
      "          8       0.85      1.00      0.92       920\n",
      "         12       0.81      0.77      0.79     11476\n",
      "         16       0.79      0.77      0.78     24825\n",
      "         20       0.75      0.74      0.74     22604\n",
      "         24       0.74      0.75      0.75     13211\n",
      "         28       0.77      0.79      0.78      5196\n",
      "         32       0.69      0.99      0.81      1758\n",
      "         36       1.00      1.00      1.00        11\n",
      "\n",
      "avg / total       0.77      0.77      0.77     80001\n",
      "\n"
     ]
    }
   ],
   "source": [
    "#create confusion matrix \n",
    "conf_matrix = confusion_matrix(train_label, train_pred)\n",
    "\n",
    "#print f1 score\n",
    "f1 = f1_score(train_label, train_pred, average='micro')\n",
    "print(f1)\n",
    "\n",
    "#create a visualisation on the confusion matrix\n",
    "ax = plt.subplot()\n",
    "sns.heatmap(conf_matrix, annot=True, ax=ax, fmt='d')\n",
    "ax.set_xlabel('Predicted labels')\n",
    "ax.set_ylabel('True labels')\n",
    "ax.set_title('Confusion Matrix')\n",
    "ax.xaxis.set_ticklabels(classes)\n",
    "ax.yaxis.set_ticklabels(classes)\n",
    "plt.show()\n",
    "\n",
    "#print a classification report\n",
    "print(classification_report(train_label, train_pred))"
   ]
  },
  {
   "cell_type": "code",
   "execution_count": null,
   "metadata": {},
   "outputs": [],
   "source": []
  }
 ],
 "metadata": {
  "kernelspec": {
   "display_name": "Python 3",
   "language": "python",
   "name": "python3"
  },
  "language_info": {
   "codemirror_mode": {
    "name": "ipython",
    "version": 3
   },
   "file_extension": ".py",
   "mimetype": "text/x-python",
   "name": "python",
   "nbconvert_exporter": "python",
   "pygments_lexer": "ipython3",
   "version": "3.5.3"
  }
 },
 "nbformat": 4,
 "nbformat_minor": 1
}
